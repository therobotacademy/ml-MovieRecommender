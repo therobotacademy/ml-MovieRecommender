{
 "cells": [
  {
   "cell_type": "code",
   "execution_count": 1,
   "metadata": {
    "collapsed": false
   },
   "outputs": [],
   "source": [
    "from os import path\n",
    "import graphlab as gl\n",
    "from datetime import datetime"
   ]
  },
  {
   "cell_type": "markdown",
   "metadata": {},
   "source": [
    "# Load Data\n",
    "\n",
    "MovieLens dataset collected by the GroupLens Research Project at the University of Minnesota.\n",
    "For more information, see http://grouplens.org/datasets/movielens/"
   ]
  },
  {
   "cell_type": "code",
   "execution_count": 2,
   "metadata": {
    "collapsed": false
   },
   "outputs": [
    {
     "name": "stderr",
     "output_type": "stream",
     "text": [
      "[INFO] graphlab.cython.cy_server: GraphLab Create v2.1 started. Logging: /tmp/graphlab_server_1541519359.log\n",
      "INFO:graphlab.cython.cy_server:GraphLab Create v2.1 started. Logging: /tmp/graphlab_server_1541519359.log\n"
     ]
    },
    {
     "data": {
      "text/html": [
       "<pre>Finished parsing file /home/ubuntu/ml-MovieRecommender/dataset/ml-20m/movies.csv</pre>"
      ],
      "text/plain": [
       "Finished parsing file /home/ubuntu/ml-MovieRecommender/dataset/ml-20m/movies.csv"
      ]
     },
     "metadata": {},
     "output_type": "display_data"
    },
    {
     "data": {
      "text/html": [
       "<pre>Parsing completed. Parsed 100 lines in 0.046398 secs.</pre>"
      ],
      "text/plain": [
       "Parsing completed. Parsed 100 lines in 0.046398 secs."
      ]
     },
     "metadata": {},
     "output_type": "display_data"
    },
    {
     "name": "stdout",
     "output_type": "stream",
     "text": [
      "This non-commercial license of GraphLab Create for academic use is assigned to bernardo.ronquillo@gmail.com and will expire on May 11, 2019.\n",
      "------------------------------------------------------"
     ]
    },
    {
     "data": {
      "text/html": [
       "<pre>Finished parsing file /home/ubuntu/ml-MovieRecommender/dataset/ml-20m/movies.csv</pre>"
      ],
      "text/plain": [
       "Finished parsing file /home/ubuntu/ml-MovieRecommender/dataset/ml-20m/movies.csv"
      ]
     },
     "metadata": {},
     "output_type": "display_data"
    },
    {
     "data": {
      "text/html": [
       "<pre>Parsing completed. Parsed 27278 lines in 0.041476 secs.</pre>"
      ],
      "text/plain": [
       "Parsing completed. Parsed 27278 lines in 0.041476 secs."
      ]
     },
     "metadata": {},
     "output_type": "display_data"
    },
    {
     "data": {
      "text/html": [
       "<pre>Finished parsing file /home/ubuntu/ml-MovieRecommender/dataset/ml-20m/ratings.csv</pre>"
      ],
      "text/plain": [
       "Finished parsing file /home/ubuntu/ml-MovieRecommender/dataset/ml-20m/ratings.csv"
      ]
     },
     "metadata": {},
     "output_type": "display_data"
    },
    {
     "data": {
      "text/html": [
       "<pre>Parsing completed. Parsed 100 lines in 0.905564 secs.</pre>"
      ],
      "text/plain": [
       "Parsing completed. Parsed 100 lines in 0.905564 secs."
      ]
     },
     "metadata": {},
     "output_type": "display_data"
    },
    {
     "name": "stdout",
     "output_type": "stream",
     "text": [
      "\n",
      "Inferred types from first 100 line(s) of file as \n",
      "column_type_hints=[int,str,str]\n",
      "If parsing fails due to incorrect types, you can correct\n",
      "the inferred type list above and pass it to read_csv in\n",
      "the column_type_hints argument\n",
      "------------------------------------------------------\n",
      "------------------------------------------------------"
     ]
    },
    {
     "data": {
      "text/html": [
       "<pre>Read 2042753 lines. Lines per second: 1.39603e+06</pre>"
      ],
      "text/plain": [
       "Read 2042753 lines. Lines per second: 1.39603e+06"
      ]
     },
     "metadata": {},
     "output_type": "display_data"
    },
    {
     "data": {
      "text/html": [
       "<pre>Finished parsing file /home/ubuntu/ml-MovieRecommender/dataset/ml-20m/ratings.csv</pre>"
      ],
      "text/plain": [
       "Finished parsing file /home/ubuntu/ml-MovieRecommender/dataset/ml-20m/ratings.csv"
      ]
     },
     "metadata": {},
     "output_type": "display_data"
    },
    {
     "data": {
      "text/html": [
       "<pre>Parsing completed. Parsed 20000263 lines in 6.4206 secs.</pre>"
      ],
      "text/plain": [
       "Parsing completed. Parsed 20000263 lines in 6.4206 secs."
      ]
     },
     "metadata": {},
     "output_type": "display_data"
    },
    {
     "name": "stdout",
     "output_type": "stream",
     "text": [
      "\n",
      "Inferred types from first 100 line(s) of file as \n",
      "column_type_hints=[int,int,float,int]\n",
      "If parsing fails due to incorrect types, you can correct\n",
      "the inferred type list above and pass it to read_csv in\n",
      "the column_type_hints argument\n",
      "------------------------------------------------------\n"
     ]
    }
   ],
   "source": [
    "# Path to the dataset directory\n",
    "data_dir = './dataset/ml-20m'\n",
    "\n",
    "# Table of movies we are recommending: movieId, title, genres\n",
    "items = gl.SFrame.read_csv(path.join(data_dir, 'movies.csv'))\n",
    "\n",
    "# Table of interactions between users and items: userId, movieId, rating, timestamp\n",
    "actions = gl.SFrame.read_csv(path.join(data_dir, 'ratings.csv'))"
   ]
  },
  {
   "cell_type": "markdown",
   "metadata": {},
   "source": [
    "# Prepare Data"
   ]
  },
  {
   "cell_type": "code",
   "execution_count": 3,
   "metadata": {
    "collapsed": true
   },
   "outputs": [],
   "source": [
    "# Prepare the data by removing items that are rare\n",
    "rare_items = actions.groupby('movieId', gl.aggregate.COUNT).sort('Count')\n",
    "rare_items = rare_items[rare_items['Count'] <= 5]\n",
    "items = items.filter_by(rare_items['movieId'], 'movieId', exclude=True)\n",
    "actions = actions.filter_by(rare_items['movieId'], 'movieId', exclude=True)\n",
    "actions['timestamp'] = actions['timestamp'].astype(datetime)"
   ]
  },
  {
   "cell_type": "code",
   "execution_count": 4,
   "metadata": {
    "collapsed": true
   },
   "outputs": [],
   "source": [
    "# Extract year, title, and genre\n",
    "items['year'] = items['title'].apply(lambda x: x[-5:-1])\n",
    "items['title'] = items['title'].apply(lambda x: x[:-7])\n",
    "items['genres'] = items['genres'].apply(lambda x: x.split('|'))"
   ]
  },
  {
   "cell_type": "markdown",
   "metadata": {},
   "source": [
    "# Train Recommender Model"
   ]
  },
  {
   "cell_type": "code",
   "execution_count": 5,
   "metadata": {
    "collapsed": false
   },
   "outputs": [
    {
     "data": {
      "text/html": [
       "<pre>Recsys training: model = item_similarity</pre>"
      ],
      "text/plain": [
       "Recsys training: model = item_similarity"
      ]
     },
     "metadata": {},
     "output_type": "display_data"
    },
    {
     "data": {
      "text/html": [
       "<pre>Warning: Ignoring columns rating, timestamp;</pre>"
      ],
      "text/plain": [
       "Warning: Ignoring columns rating, timestamp;"
      ]
     },
     "metadata": {},
     "output_type": "display_data"
    },
    {
     "data": {
      "text/html": [
       "<pre>    To use one of these as a target column, set target = <column_name></pre>"
      ],
      "text/plain": [
       "    To use one of these as a target column, set target = <column_name>"
      ]
     },
     "metadata": {},
     "output_type": "display_data"
    },
    {
     "data": {
      "text/html": [
       "<pre>    and use a method that allows the use of a target.</pre>"
      ],
      "text/plain": [
       "    and use a method that allows the use of a target."
      ]
     },
     "metadata": {},
     "output_type": "display_data"
    },
    {
     "data": {
      "text/html": [
       "<pre>Preparing data set.</pre>"
      ],
      "text/plain": [
       "Preparing data set."
      ]
     },
     "metadata": {},
     "output_type": "display_data"
    },
    {
     "data": {
      "text/html": [
       "<pre>    Data has 19950681 observations with 138493 users and 17519 items.</pre>"
      ],
      "text/plain": [
       "    Data has 19950681 observations with 138493 users and 17519 items."
      ]
     },
     "metadata": {},
     "output_type": "display_data"
    },
    {
     "data": {
      "text/html": [
       "<pre>    Data prepared in: 7.20072s</pre>"
      ],
      "text/plain": [
       "    Data prepared in: 7.20072s"
      ]
     },
     "metadata": {},
     "output_type": "display_data"
    },
    {
     "data": {
      "text/html": [
       "<pre>Training model from provided data.</pre>"
      ],
      "text/plain": [
       "Training model from provided data."
      ]
     },
     "metadata": {},
     "output_type": "display_data"
    },
    {
     "data": {
      "text/html": [
       "<pre>Gathering per-item and per-user statistics.</pre>"
      ],
      "text/plain": [
       "Gathering per-item and per-user statistics."
      ]
     },
     "metadata": {},
     "output_type": "display_data"
    },
    {
     "data": {
      "text/html": [
       "<pre>+--------------------------------+------------+</pre>"
      ],
      "text/plain": [
       "+--------------------------------+------------+"
      ]
     },
     "metadata": {},
     "output_type": "display_data"
    },
    {
     "data": {
      "text/html": [
       "<pre>| Elapsed Time (Item Statistics) | % Complete |</pre>"
      ],
      "text/plain": [
       "| Elapsed Time (Item Statistics) | % Complete |"
      ]
     },
     "metadata": {},
     "output_type": "display_data"
    },
    {
     "data": {
      "text/html": [
       "<pre>+--------------------------------+------------+</pre>"
      ],
      "text/plain": [
       "+--------------------------------+------------+"
      ]
     },
     "metadata": {},
     "output_type": "display_data"
    },
    {
     "data": {
      "text/html": [
       "<pre>| 5.655ms                        | 0.5        |</pre>"
      ],
      "text/plain": [
       "| 5.655ms                        | 0.5        |"
      ]
     },
     "metadata": {},
     "output_type": "display_data"
    },
    {
     "data": {
      "text/html": [
       "<pre>| 527.764ms                      | 100        |</pre>"
      ],
      "text/plain": [
       "| 527.764ms                      | 100        |"
      ]
     },
     "metadata": {},
     "output_type": "display_data"
    },
    {
     "data": {
      "text/html": [
       "<pre>+--------------------------------+------------+</pre>"
      ],
      "text/plain": [
       "+--------------------------------+------------+"
      ]
     },
     "metadata": {},
     "output_type": "display_data"
    },
    {
     "data": {
      "text/html": [
       "<pre>Setting up lookup tables.</pre>"
      ],
      "text/plain": [
       "Setting up lookup tables."
      ]
     },
     "metadata": {},
     "output_type": "display_data"
    },
    {
     "data": {
      "text/html": [
       "<pre>Processing data in one pass using dense lookup tables.</pre>"
      ],
      "text/plain": [
       "Processing data in one pass using dense lookup tables."
      ]
     },
     "metadata": {},
     "output_type": "display_data"
    },
    {
     "data": {
      "text/html": [
       "<pre>+-------------------------------------+------------------+-----------------+</pre>"
      ],
      "text/plain": [
       "+-------------------------------------+------------------+-----------------+"
      ]
     },
     "metadata": {},
     "output_type": "display_data"
    },
    {
     "data": {
      "text/html": [
       "<pre>| Elapsed Time (Constructing Lookups) | Total % Complete | Items Processed |</pre>"
      ],
      "text/plain": [
       "| Elapsed Time (Constructing Lookups) | Total % Complete | Items Processed |"
      ]
     },
     "metadata": {},
     "output_type": "display_data"
    },
    {
     "data": {
      "text/html": [
       "<pre>+-------------------------------------+------------------+-----------------+</pre>"
      ],
      "text/plain": [
       "+-------------------------------------+------------------+-----------------+"
      ]
     },
     "metadata": {},
     "output_type": "display_data"
    },
    {
     "data": {
      "text/html": [
       "<pre>| 886.415ms                           | 0                | 0               |</pre>"
      ],
      "text/plain": [
       "| 886.415ms                           | 0                | 0               |"
      ]
     },
     "metadata": {},
     "output_type": "display_data"
    },
    {
     "data": {
      "text/html": [
       "<pre>| 1.88s                               | 6.25             | 1102            |</pre>"
      ],
      "text/plain": [
       "| 1.88s                               | 6.25             | 1102            |"
      ]
     },
     "metadata": {},
     "output_type": "display_data"
    },
    {
     "data": {
      "text/html": [
       "<pre>| 2.88s                               | 12               | 2103            |</pre>"
      ],
      "text/plain": [
       "| 2.88s                               | 12               | 2103            |"
      ]
     },
     "metadata": {},
     "output_type": "display_data"
    },
    {
     "data": {
      "text/html": [
       "<pre>| 3.88s                               | 17.75            | 3137            |</pre>"
      ],
      "text/plain": [
       "| 3.88s                               | 17.75            | 3137            |"
      ]
     },
     "metadata": {},
     "output_type": "display_data"
    },
    {
     "data": {
      "text/html": [
       "<pre>| 4.88s                               | 23.25            | 4079            |</pre>"
      ],
      "text/plain": [
       "| 4.88s                               | 23.25            | 4079            |"
      ]
     },
     "metadata": {},
     "output_type": "display_data"
    },
    {
     "data": {
      "text/html": [
       "<pre>| 5.88s                               | 28.75            | 5074            |</pre>"
      ],
      "text/plain": [
       "| 5.88s                               | 28.75            | 5074            |"
      ]
     },
     "metadata": {},
     "output_type": "display_data"
    },
    {
     "data": {
      "text/html": [
       "<pre>| 6.88s                               | 34.25            | 6038            |</pre>"
      ],
      "text/plain": [
       "| 6.88s                               | 34.25            | 6038            |"
      ]
     },
     "metadata": {},
     "output_type": "display_data"
    },
    {
     "data": {
      "text/html": [
       "<pre>| 7.88s                               | 39.75            | 6992            |</pre>"
      ],
      "text/plain": [
       "| 7.88s                               | 39.75            | 6992            |"
      ]
     },
     "metadata": {},
     "output_type": "display_data"
    },
    {
     "data": {
      "text/html": [
       "<pre>| 8.88s                               | 45.5             | 7971            |</pre>"
      ],
      "text/plain": [
       "| 8.88s                               | 45.5             | 7971            |"
      ]
     },
     "metadata": {},
     "output_type": "display_data"
    },
    {
     "data": {
      "text/html": [
       "<pre>| 9.88s                               | 50.75            | 8925            |</pre>"
      ],
      "text/plain": [
       "| 9.88s                               | 50.75            | 8925            |"
      ]
     },
     "metadata": {},
     "output_type": "display_data"
    },
    {
     "data": {
      "text/html": [
       "<pre>| 10.88s                              | 56.25            | 9865            |</pre>"
      ],
      "text/plain": [
       "| 10.88s                              | 56.25            | 9865            |"
      ]
     },
     "metadata": {},
     "output_type": "display_data"
    },
    {
     "data": {
      "text/html": [
       "<pre>| 11.88s                              | 62               | 10861           |</pre>"
      ],
      "text/plain": [
       "| 11.88s                              | 62               | 10861           |"
      ]
     },
     "metadata": {},
     "output_type": "display_data"
    },
    {
     "data": {
      "text/html": [
       "<pre>| 12.88s                              | 67.25            | 11822           |</pre>"
      ],
      "text/plain": [
       "| 12.88s                              | 67.25            | 11822           |"
      ]
     },
     "metadata": {},
     "output_type": "display_data"
    },
    {
     "data": {
      "text/html": [
       "<pre>| 13.88s                              | 72.5             | 12711           |</pre>"
      ],
      "text/plain": [
       "| 13.88s                              | 72.5             | 12711           |"
      ]
     },
     "metadata": {},
     "output_type": "display_data"
    },
    {
     "data": {
      "text/html": [
       "<pre>| 14.88s                              | 77.75            | 13622           |</pre>"
      ],
      "text/plain": [
       "| 14.88s                              | 77.75            | 13622           |"
      ]
     },
     "metadata": {},
     "output_type": "display_data"
    },
    {
     "data": {
      "text/html": [
       "<pre>| 15.88s                              | 83.25            | 14585           |</pre>"
      ],
      "text/plain": [
       "| 15.88s                              | 83.25            | 14585           |"
      ]
     },
     "metadata": {},
     "output_type": "display_data"
    },
    {
     "data": {
      "text/html": [
       "<pre>| 16.88s                              | 89               | 15602           |</pre>"
      ],
      "text/plain": [
       "| 16.88s                              | 89               | 15602           |"
      ]
     },
     "metadata": {},
     "output_type": "display_data"
    },
    {
     "data": {
      "text/html": [
       "<pre>| 17.88s                              | 94.5             | 16595           |</pre>"
      ],
      "text/plain": [
       "| 17.88s                              | 94.5             | 16595           |"
      ]
     },
     "metadata": {},
     "output_type": "display_data"
    },
    {
     "data": {
      "text/html": [
       "<pre>| 18.89s                              | 99.75            | 17512           |</pre>"
      ],
      "text/plain": [
       "| 18.89s                              | 99.75            | 17512           |"
      ]
     },
     "metadata": {},
     "output_type": "display_data"
    },
    {
     "data": {
      "text/html": [
       "<pre>| 19.52s                              | 100              | 17519           |</pre>"
      ],
      "text/plain": [
       "| 19.52s                              | 100              | 17519           |"
      ]
     },
     "metadata": {},
     "output_type": "display_data"
    },
    {
     "data": {
      "text/html": [
       "<pre>+-------------------------------------+------------------+-----------------+</pre>"
      ],
      "text/plain": [
       "+-------------------------------------+------------------+-----------------+"
      ]
     },
     "metadata": {},
     "output_type": "display_data"
    },
    {
     "data": {
      "text/html": [
       "<pre>Finalizing lookup tables.</pre>"
      ],
      "text/plain": [
       "Finalizing lookup tables."
      ]
     },
     "metadata": {},
     "output_type": "display_data"
    },
    {
     "data": {
      "text/html": [
       "<pre>Generating candidate set for working with new users.</pre>"
      ],
      "text/plain": [
       "Generating candidate set for working with new users."
      ]
     },
     "metadata": {},
     "output_type": "display_data"
    },
    {
     "data": {
      "text/html": [
       "<pre>Finished training in 21.2831s</pre>"
      ],
      "text/plain": [
       "Finished training in 21.2831s"
      ]
     },
     "metadata": {},
     "output_type": "display_data"
    }
   ],
   "source": [
    "training_data, validation_data = gl.recommender.util.random_split_by_user(actions, 'userId', 'movieId')\n",
    "model = gl.recommender.create(training_data, 'userId', 'movieId')"
   ]
  },
  {
   "cell_type": "markdown",
   "metadata": {},
   "source": [
    "# Explore and Evaluate the Model"
   ]
  },
  {
   "cell_type": "code",
   "execution_count": 6,
   "metadata": {
    "collapsed": false,
    "scrolled": false
   },
   "outputs": [
    {
     "data": {
      "text/html": [
       "<pre>Finished parsing file /home/ubuntu/ml-MovieRecommender/dataset/ml-20m/movie_urls.csv</pre>"
      ],
      "text/plain": [
       "Finished parsing file /home/ubuntu/ml-MovieRecommender/dataset/ml-20m/movie_urls.csv"
      ]
     },
     "metadata": {},
     "output_type": "display_data"
    },
    {
     "data": {
      "text/html": [
       "<pre>Parsing completed. Parsed 100 lines in 0.041551 secs.</pre>"
      ],
      "text/plain": [
       "Parsing completed. Parsed 100 lines in 0.041551 secs."
      ]
     },
     "metadata": {},
     "output_type": "display_data"
    },
    {
     "data": {
      "text/html": [
       "<pre>Finished parsing file /home/ubuntu/ml-MovieRecommender/dataset/ml-20m/movie_urls.csv</pre>"
      ],
      "text/plain": [
       "Finished parsing file /home/ubuntu/ml-MovieRecommender/dataset/ml-20m/movie_urls.csv"
      ]
     },
     "metadata": {},
     "output_type": "display_data"
    },
    {
     "data": {
      "text/html": [
       "<pre>Parsing completed. Parsed 26863 lines in 0.046101 secs.</pre>"
      ],
      "text/plain": [
       "Parsing completed. Parsed 26863 lines in 0.046101 secs."
      ]
     },
     "metadata": {},
     "output_type": "display_data"
    },
    {
     "data": {
      "text/html": [
       "<pre>Finished parsing file /home/ubuntu/ml-MovieRecommender/dataset/ml-20m/user_names.csv</pre>"
      ],
      "text/plain": [
       "Finished parsing file /home/ubuntu/ml-MovieRecommender/dataset/ml-20m/user_names.csv"
      ]
     },
     "metadata": {},
     "output_type": "display_data"
    },
    {
     "data": {
      "text/html": [
       "<pre>Parsing completed. Parsed 100 lines in 0.081254 secs.</pre>"
      ],
      "text/plain": [
       "Parsing completed. Parsed 100 lines in 0.081254 secs."
      ]
     },
     "metadata": {},
     "output_type": "display_data"
    },
    {
     "name": "stdout",
     "output_type": "stream",
     "text": [
      "------------------------------------------------------\n",
      "Inferred types from first 100 line(s) of file as \n",
      "column_type_hints=[int,str]\n",
      "If parsing fails due to incorrect types, you can correct\n",
      "the inferred type list above and pass it to read_csv in\n",
      "the column_type_hints argument\n",
      "------------------------------------------------------\n",
      "------------------------------------------------------"
     ]
    },
    {
     "data": {
      "text/html": [
       "<pre>Finished parsing file /home/ubuntu/ml-MovieRecommender/dataset/ml-20m/user_names.csv</pre>"
      ],
      "text/plain": [
       "Finished parsing file /home/ubuntu/ml-MovieRecommender/dataset/ml-20m/user_names.csv"
      ]
     },
     "metadata": {},
     "output_type": "display_data"
    },
    {
     "data": {
      "text/html": [
       "<pre>Parsing completed. Parsed 138493 lines in 0.080847 secs.</pre>"
      ],
      "text/plain": [
       "Parsing completed. Parsed 138493 lines in 0.080847 secs."
      ]
     },
     "metadata": {},
     "output_type": "display_data"
    },
    {
     "name": "stdout",
     "output_type": "stream",
     "text": [
      "\n",
      "Inferred types from first 100 line(s) of file as \n",
      "column_type_hints=[int,str]\n",
      "If parsing fails due to incorrect types, you can correct\n",
      "the inferred type list above and pass it to read_csv in\n",
      "the column_type_hints argument\n",
      "------------------------------------------------------\n"
     ]
    }
   ],
   "source": [
    "# Get the metadata ready\n",
    "urls = gl.SFrame.read_csv(path.join(data_dir, 'movie_urls.csv'))\n",
    "items = items.join(urls, on='movieId')\n",
    "users = gl.SFrame.read_csv(path.join(data_dir, 'user_names.csv'))"
   ]
  },
  {
   "cell_type": "code",
   "execution_count": 7,
   "metadata": {
    "collapsed": false
   },
   "outputs": [],
   "source": [
    "gl.canvas.set_target('browser', port = 35000)"
   ]
  },
  {
   "cell_type": "code",
   "execution_count": 8,
   "metadata": {
    "collapsed": false
   },
   "outputs": [],
   "source": [
    "# Interactively evaluate and explore recommendations\n",
    "view = model.views.overview(validation_set=validation_data,\n",
    "                            user_data=users,\n",
    "                            item_data=items,\n",
    "                            item_name_column='title',\n",
    "                            item_url_column='url')"
   ]
  },
  {
   "cell_type": "code",
   "execution_count": 10,
   "metadata": {
    "collapsed": false
   },
   "outputs": [
    {
     "data": {
      "text/plain": [
       "View object\n",
       "\n",
       "URI: \t\thttp://localhost:32212/view/297bdae4-407f-4911-8ec5-058f6e63d0e1\n",
       "HTML: \t\t\n",
       "<gl-model-overview \n",
       "headers=\"[&quot;Explore&quot;, &quot;Evaluate&quot;]\" title=\"Recommender View\"\n",
       "            >\n",
       "    <!--\n",
       "        \n",
       "<gl-model-description\n",
       "    uri=\"http://localhost:32212/view/f0e912a8-dc8f-4b98-9dcb-f365c00e047c\"\n",
       "    api_key=\"\"\n",
       "/>\n",
       "        \n",
       "<gl-recommender-explore\n",
       "    uri=\"http://localhost:32212/view/74f9eeba-48d1-448e-a993-9d32f3e54d44\"\n",
       "    api_key=\"\"\n",
       "/>\n",
       "        \n",
       "<gl-recommender-evaluate\n",
       "    uri=\"http://localhost:32212/view/2a63bc20-5dc3-4301-8e33-28c3806fca24\"\n",
       "    api_key=\"\"\n",
       "/>\n",
       "        \n",
       "    -->\n",
       "</gl-model-overview>\n",
       "        "
      ]
     },
     "execution_count": 10,
     "metadata": {},
     "output_type": "execute_result"
    }
   ],
   "source": [
    "view"
   ]
  },
  {
   "cell_type": "code",
   "execution_count": null,
   "metadata": {
    "collapsed": false
   },
   "outputs": [],
   "source": [
    "view.show()"
   ]
  },
  {
   "cell_type": "code",
   "execution_count": null,
   "metadata": {
    "collapsed": true
   },
   "outputs": [],
   "source": []
  }
 ],
 "metadata": {
  "kernelspec": {
   "display_name": "Python 2",
   "language": "python",
   "name": "python2"
  },
  "language_info": {
   "codemirror_mode": {
    "name": "ipython",
    "version": 2
   },
   "file_extension": ".py",
   "mimetype": "text/x-python",
   "name": "python",
   "nbconvert_exporter": "python",
   "pygments_lexer": "ipython2",
   "version": "2.7.11"
  }
 },
 "nbformat": 4,
 "nbformat_minor": 0
}
